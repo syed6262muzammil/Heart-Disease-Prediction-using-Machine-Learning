{
 "cells": [
  {
   "cell_type": "markdown",
   "id": "63b1025c",
   "metadata": {},
   "source": [
    "# Heart Disease Prediction — EDA + Machine Learning\n",
    "This notebook performs EDA and compares multiple classifiers to predict heart disease."
   ]
  },
  {
   "cell_type": "code",
   "execution_count": null,
   "id": "8475c6a7",
   "metadata": {},
   "outputs": [],
   "source": [
    "import pandas as pd\n",
    "import numpy as np\n",
    "import matplotlib.pyplot as plt\n",
    "import seaborn as sns\n",
    "from sklearn.model_selection import train_test_split, cross_val_score\n",
    "from sklearn.preprocessing import StandardScaler\n",
    "from sklearn.linear_model import LogisticRegression\n",
    "from sklearn.ensemble import RandomForestClassifier\n",
    "from sklearn.neighbors import KNeighborsClassifier\n",
    "from sklearn.svm import SVC\n",
    "from sklearn.metrics import accuracy_score, confusion_matrix, classification_report\n",
    "sns.set(style='whitegrid')\n",
    "%matplotlib inline"
   ]
  },
  {
   "cell_type": "code",
   "execution_count": null,
   "id": "eb612e79",
   "metadata": {},
   "outputs": [],
   "source": [
    "df = pd.read_csv(\"heart.csv\")\n",
    "print(\"Shape:\", df.shape)\n",
    "df.head()"
   ]
  },
  {
   "cell_type": "code",
   "execution_count": null,
   "id": "3f6d95b2",
   "metadata": {},
   "outputs": [],
   "source": [
    "display(df.info())\n",
    "display(df.describe())\n",
    "\n",
    "# Drop duplicates if any\n",
    "df.drop_duplicates(inplace=True)\n",
    "print('Missing values:\\n', df.isnull().sum())"
   ]
  },
  {
   "cell_type": "code",
   "execution_count": null,
   "id": "1e9adea0",
   "metadata": {},
   "outputs": [],
   "source": [
    "cols = ['age','trestbps','chol','thalach','oldpeak']\n",
    "plt.figure(figsize=(15,10))\n",
    "for i, col in enumerate(cols):\n",
    "    plt.subplot(2,3,i+1)\n",
    "    sns.histplot(df[col], kde=True)\n",
    "    plt.title(col)\n",
    "plt.tight_layout()\n",
    "plt.show()"
   ]
  },
  {
   "cell_type": "code",
   "execution_count": null,
   "id": "3961e154",
   "metadata": {},
   "outputs": [],
   "source": [
    "plt.figure(figsize=(6,4))\n",
    "sns.countplot(x='num', data=df, palette='Set2')\n",
    "plt.title('Target distribution (0 = No disease, 1 = Disease)')\n",
    "plt.show()"
   ]
  },
  {
   "cell_type": "code",
   "execution_count": null,
   "id": "69c3facc",
   "metadata": {},
   "outputs": [],
   "source": [
    "plt.figure(figsize=(8,5))\n",
    "sns.boxplot(x='num', y='age', data=df)\n",
    "plt.title('Age vs Heart Disease')\n",
    "plt.show()"
   ]
  },
  {
   "cell_type": "code",
   "execution_count": null,
   "id": "78123583",
   "metadata": {},
   "outputs": [],
   "source": [
    "plt.figure(figsize=(12,8))\n",
    "sns.heatmap(df.corr(), annot=True, fmt='.2f', cmap='coolwarm')\n",
    "plt.title('Correlation Heatmap')\n",
    "plt.show()"
   ]
  },
  {
   "cell_type": "code",
   "execution_count": null,
   "id": "ac8201d6",
   "metadata": {},
   "outputs": [],
   "source": [
    "X = df.drop('num', axis=1)\n",
    "y = df['num']\n",
    "scaler = StandardScaler()\n",
    "X_scaled = scaler.fit_transform(X)\n",
    "X_train, X_test, y_train, y_test = train_test_split(X_scaled, y, test_size=0.2, random_state=42)"
   ]
  },
  {
   "cell_type": "code",
   "execution_count": null,
   "id": "7285fb05",
   "metadata": {},
   "outputs": [],
   "source": [
    "models = {\n",
    "    'LogisticRegression': LogisticRegression(max_iter=1000),\n",
    "    'RandomForest': RandomForestClassifier(n_estimators=100, random_state=42),\n",
    "    'KNN': KNeighborsClassifier(n_neighbors=5),\n",
    "    'SVM': SVC(kernel='rbf', probability=True)\n",
    "}\n",
    "\n",
    "results = {}\n",
    "for name, model in models.items():\n",
    "    model.fit(X_train, y_train)\n",
    "    preds = model.predict(X_test)\n",
    "    acc = accuracy_score(y_test, preds)\n",
    "    results[name] = acc\n",
    "    print(name, 'accuracy:', acc)\n",
    "\n",
    "print('\\nSummary of accuracies:')\n",
    "for k,v in results.items():\n",
    "    print(k, ':', v)"
   ]
  },
  {
   "cell_type": "code",
   "execution_count": null,
   "id": "ce29a7a5",
   "metadata": {},
   "outputs": [],
   "source": [
    "rf = RandomForestClassifier(n_estimators=100, random_state=42)\n",
    "rf.fit(X_train, y_train)\n",
    "importances = rf.feature_importances_\n",
    "feat_names = df.drop('num', axis=1).columns\n",
    "imp_df = pd.DataFrame({'feature':feat_names, 'importance':importances}).sort_values(by='importance', ascending=False)\n",
    "imp_df"
   ]
  },
  {
   "cell_type": "code",
   "execution_count": null,
   "id": "814b0269",
   "metadata": {},
   "outputs": [],
   "source": [
    "best = RandomForestClassifier(n_estimators=100, random_state=42)\n",
    "best.fit(X_train, y_train)\n",
    "y_pred = best.predict(X_test)\n",
    "print('Accuracy:', accuracy_score(y_test, y_pred))\n",
    "print('\\nConfusion Matrix:\\n', confusion_matrix(y_test, y_pred))\n",
    "print('\\nClassification Report:\\n', classification_report(y_test, y_pred))"
   ]
  },
  {
   "cell_type": "markdown",
   "id": "6f6c583d",
   "metadata": {},
   "source": [
    "## Conclusion\n",
    "- Performed EDA and compared multiple models.\n",
    "- Random Forest gives feature importance and competitive accuracy.\n",
    "\n",
    "### Next steps\n",
    "- Hyperparameter tuning\n",
    "- Cross-validation\n",
    "- Use full UCI dataset for better results"
   ]
  }
 ],
 "metadata": {},
 "nbformat": 4,
 "nbformat_minor": 5
}
